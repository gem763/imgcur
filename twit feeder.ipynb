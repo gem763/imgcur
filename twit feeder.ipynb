{
 "cells": [
  {
   "cell_type": "code",
   "execution_count": 1,
   "metadata": {},
   "outputs": [],
   "source": [
    "import pymongo\n",
    "import spacy\n",
    "import decouple\n",
    "import glob\n",
    "import datetime\n",
    "from PIL import Image\n",
    "from IPython.display import display\n",
    "from tqdm.notebook import tqdm\n",
    "from pytrends.request import TrendReq\n",
    "import tweepy\n",
    "import os\n",
    "from io import BytesIO\n",
    "from google.cloud import storage\n",
    "\n",
    "config = decouple.AutoConfig(' ')\n",
    "nlp = spacy.load(\"en_core_web_lg\")\n",
    "\n",
    "bucket_name = 'sideb-proejct.appspot.com'\n",
    "bucket_dir = 'piixur/'"
   ]
  },
  {
   "cell_type": "code",
   "execution_count": 2,
   "metadata": {},
   "outputs": [],
   "source": [
    "os.environ['GOOGLE_APPLICATION_CREDENTIALS'] = os.path.abspath(os.path.join(os.getcwd(), 'config/sideb-proejct-0e33d8c0b0a9.json'))"
   ]
  },
  {
   "cell_type": "code",
   "execution_count": 10,
   "metadata": {},
   "outputs": [],
   "source": [
    "def get_gtrend(kw):\n",
    "    pytrends = TrendReq(hl='en-US', tz=360)\n",
    "    pytrends.build_payload([kw], timeframe='now 1-d')\n",
    "    qrys = pytrends.related_queries()[kw]['rising']['query'].values\n",
    "    return ' '.join([_q.replace(kw, '').replace('  ', ' ').strip() for _q in qrys])"
   ]
  },
  {
   "cell_type": "code",
   "execution_count": 11,
   "metadata": {},
   "outputs": [
    {
     "data": {
      "text/plain": [
       "'robert crimo to pdf converter kolkata  result convert to pdf kolkata fort hanuman ji ki bajrangbali'"
      ]
     },
     "execution_count": 11,
     "metadata": {},
     "output_type": "execute_result"
    }
   ],
   "source": [
    "get_gtrend('photo')"
   ]
  },
  {
   "cell_type": "code",
   "execution_count": 12,
   "metadata": {},
   "outputs": [
    {
     "data": {
      "text/plain": [
       "'metal of wisconsin provincia experta mother bird asoci cual es mi galeno prevencion museum fireworks 4th of july clip chelsea lee 4th of july pictures clip free rsl union 4th of july animal crossing guide museum fireworks 2022 animal crossing acnh guide coney walls reina sofia redd guide clip'"
      ]
     },
     "execution_count": 12,
     "metadata": {},
     "output_type": "execute_result"
    }
   ],
   "source": [
    "get_gtrend('art')"
   ]
  },
  {
   "cell_type": "code",
   "execution_count": 5,
   "metadata": {},
   "outputs": [],
   "source": [
    "def get_mongodb_collection(colname):\n",
    "    client = pymongo.MongoClient(config('MONGODB_URI'))\n",
    "    return client.Cluster0[colname]"
   ]
  },
  {
   "cell_type": "code",
   "execution_count": 6,
   "metadata": {},
   "outputs": [
    {
     "data": {
      "text/plain": [
       "Collection(Database(MongoClient(host=['ac-w0gvyzx-shard-00-00.bhunbl6.mongodb.net:27017', 'ac-w0gvyzx-shard-00-01.bhunbl6.mongodb.net:27017', 'ac-w0gvyzx-shard-00-02.bhunbl6.mongodb.net:27017'], document_class=dict, tz_aware=False, connect=True, retrywrites=True, w='majority', authsource='admin', replicaset='atlas-13va1m-shard-0', tls=True), 'Cluster0'), 'pix')"
      ]
     },
     "execution_count": 6,
     "metadata": {},
     "output_type": "execute_result"
    }
   ],
   "source": [
    "get_mongodb_collection('pix')"
   ]
  },
  {
   "cell_type": "code",
   "execution_count": null,
   "metadata": {},
   "outputs": [],
   "source": []
  },
  {
   "cell_type": "code",
   "execution_count": 7,
   "metadata": {},
   "outputs": [],
   "source": [
    "def get_tweepy_api():\n",
    "    bearer_token = config('TWITTER_BEARER_TOKEN')\n",
    "    consumer_key = config('TWITTER_CONSUMER_KEY')\n",
    "    consumer_secret = config('TWITTER_CONSUMER_SECRET')\n",
    "    access_token = config('TWITTER_ACCESS_TOKEN')\n",
    "    access_token_secret = config('TWITTER_ACCESS_TOKEN_SECRET')\n",
    "\n",
    "    auth = tweepy.OAuth1UserHandler(consumer_key, consumer_secret, access_token, access_token_secret)\n",
    "    return tweepy.API(auth)"
   ]
  },
  {
   "cell_type": "code",
   "execution_count": 14,
   "metadata": {},
   "outputs": [],
   "source": [
    "def main():\n",
    "    log = {}\n",
    "    \n",
    "    try:\n",
    "        gtrend = get_gtrend('photo')\n",
    "        log['gtrend'] = gtrend\n",
    "\n",
    "        colpix = get_mongodb_collection('pix')\n",
    "        pixs = list(colpix.find({ 'feed_id': {'$exists': False}}))\n",
    "        log['target_docs'] = len(pixs)\n",
    "\n",
    "        sims = []\n",
    "        for _p in tqdm(pixs):\n",
    "            sims.append((_p['hash'], nlp(gtrend).similarity(nlp(_p['labels'] + ' ' + _p['colors']))))\n",
    "\n",
    "        sims = sorted(sims, key=lambda x: -x[1])\n",
    "        log['scores'] = sims[:3]\n",
    "\n",
    "        _hash = sims[0][0]\n",
    "        pix = colpix.find_one({ 'hash': _hash })\n",
    "        url = pix['urls'][0]\n",
    "        log['pix_url'] = url\n",
    "\n",
    "        storage_client = storage.Client()\n",
    "        blobs = list(storage_client.list_blobs(bucket_name, prefix=bucket_dir+_hash))\n",
    "        blob = blobs[0]\n",
    "        log['storage_file_exists'] = True\n",
    "\n",
    "        api = get_tweepy_api()\n",
    "        _file = BytesIO(blob.download_as_bytes())\n",
    "        media = api.media_upload(filename='0', file=_file)\n",
    "        log['twitter_media_id'] = media.media_id\n",
    "\n",
    "        api.create_media_metadata(media.media_id_string, url)\n",
    "        log['twitter_media_metadata_created'] = True\n",
    "\n",
    "        status = api.update_status(status='', media_ids=[media.media_id_string])\n",
    "        log['feed_id'] = status.id\n",
    "\n",
    "        colpix.update_one(\n",
    "            { 'hash': _hash }, \n",
    "            { '$set': { 'feed_id': status.id } }\n",
    "        )\n",
    "        log['mongodb_updated'] = True\n",
    "        \n",
    "    except:\n",
    "        log['mongodb_updated'] = False\n",
    "    \n",
    "    finally:\n",
    "        # print(log)\n",
    "        feedlog = get_mongodb_collection('feedlog')\n",
    "        feedlog.insert_one(log)"
   ]
  },
  {
   "cell_type": "code",
   "execution_count": 9,
   "metadata": {},
   "outputs": [
    {
     "data": {
      "application/vnd.jupyter.widget-view+json": {
       "model_id": "d06afb649e1446c99023aab9c4516c4a",
       "version_major": 2,
       "version_minor": 0
      },
      "text/plain": [
       "  0%|          | 0/400 [00:00<?, ?it/s]"
      ]
     },
     "metadata": {},
     "output_type": "display_data"
    }
   ],
   "source": [
    "main()"
   ]
  },
  {
   "cell_type": "code",
   "execution_count": null,
   "metadata": {},
   "outputs": [],
   "source": []
  }
 ],
 "metadata": {
  "kernelspec": {
   "display_name": "venv",
   "language": "python",
   "name": "venv"
  },
  "language_info": {
   "codemirror_mode": {
    "name": "ipython",
    "version": 3
   },
   "file_extension": ".py",
   "mimetype": "text/x-python",
   "name": "python",
   "nbconvert_exporter": "python",
   "pygments_lexer": "ipython3",
   "version": "3.8.8"
  }
 },
 "nbformat": 4,
 "nbformat_minor": 5
}
