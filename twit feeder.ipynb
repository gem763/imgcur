{
 "cells": [
  {
   "cell_type": "code",
   "execution_count": 1,
   "id": "7865ad8a",
   "metadata": {},
   "outputs": [],
   "source": [
    "import pymongo\n",
    "import spacy\n",
    "import decouple\n",
    "import glob\n",
    "import datetime\n",
    "from PIL import Image\n",
    "from IPython.display import display\n",
    "from tqdm.notebook import tqdm\n",
    "from pytrends.request import TrendReq\n",
    "import tweepy\n",
    "\n",
    "config = decouple.AutoConfig(' ')\n",
    "nlp = spacy.load(\"en_core_web_lg\")"
   ]
  },
  {
   "cell_type": "code",
   "execution_count": 2,
   "id": "88a97e5a",
   "metadata": {},
   "outputs": [],
   "source": [
    "def get_gtrend(kw):\n",
    "    pytrends = TrendReq(hl='en-US', tz=360)\n",
    "    pytrends.build_payload([kw], timeframe='now 4-H')\n",
    "    qrys = pytrends.related_queries()[kw]['rising']['query'].values\n",
    "    return ' '.join([_q.replace(kw, '').replace('  ', ' ').strip() for _q in qrys])"
   ]
  },
  {
   "cell_type": "code",
   "execution_count": 3,
   "id": "22228670",
   "metadata": {},
   "outputs": [
    {
     "data": {
      "text/plain": [
       "'jindal share price emma watson jk rowling kolkata fort kolkata kolkata  result resizer in kb resizer to pdf converter why did the go to jail joke size reducer poses for boys frame shop near me passport size passport size size tetu online resizer dp gold rates in pakistan today background change online to pdf compressor online resize passport size dimensions pose passport size maker'"
      ]
     },
     "execution_count": 3,
     "metadata": {},
     "output_type": "execute_result"
    }
   ],
   "source": [
    "get_gtrend('photo')"
   ]
  },
  {
   "cell_type": "code",
   "execution_count": 4,
   "id": "85eb513e",
   "metadata": {},
   "outputs": [],
   "source": [
    "def get_mongodb_collection(colname):\n",
    "    client = pymongo.MongoClient(config('MONGODB_URI'))\n",
    "    return client.Cluster0[colname]"
   ]
  },
  {
   "cell_type": "code",
   "execution_count": 5,
   "id": "b3a10d50",
   "metadata": {},
   "outputs": [
    {
     "data": {
      "text/plain": [
       "Collection(Database(MongoClient(host=['ac-w0gvyzx-shard-00-02.bhunbl6.mongodb.net:27017', 'ac-w0gvyzx-shard-00-01.bhunbl6.mongodb.net:27017', 'ac-w0gvyzx-shard-00-00.bhunbl6.mongodb.net:27017'], document_class=dict, tz_aware=False, connect=True, retrywrites=True, w='majority', authsource='admin', replicaset='atlas-13va1m-shard-0', tls=True), 'Cluster0'), 'pix')"
      ]
     },
     "execution_count": 5,
     "metadata": {},
     "output_type": "execute_result"
    }
   ],
   "source": [
    "get_mongodb_collection('pix')"
   ]
  },
  {
   "cell_type": "code",
   "execution_count": 8,
   "id": "166dca95",
   "metadata": {},
   "outputs": [],
   "source": [
    "def main():\n",
    "    gtrend = get_gtrend('photo')\n",
    "    colpix = get_mongodb_collection('pix')\n",
    "    pixs = list(colpix.find({ 'feed_id': {'$exists': False}}))\n",
    "    \n",
    "    sims = []\n",
    "    for _p in tqdm(pixs):\n",
    "        sims.append((_p['hash'], nlp(gtrend).similarity(nlp(_p['labels'] + ' ' + _p['colors']))))\n",
    "\n",
    "    sims = sorted(sims, key=lambda x: -x[1])\n",
    "    return sims[-5:]"
   ]
  },
  {
   "cell_type": "code",
   "execution_count": 9,
   "id": "a423a467",
   "metadata": {},
   "outputs": [
    {
     "data": {
      "application/vnd.jupyter.widget-view+json": {
       "model_id": "f7a5a03bedf84df882616750bcf00ad2",
       "version_major": 2,
       "version_minor": 0
      },
      "text/plain": [
       "  0%|          | 0/347 [00:00<?, ?it/s]"
      ]
     },
     "metadata": {},
     "output_type": "display_data"
    },
    {
     "data": {
      "text/plain": [
       "[('a197e0b535f42c6018fed919f089418bb2ac5e698989590b05fb2db7f3c8b10e',\n",
       "  0.44848098364209804),\n",
       " ('b057f241cb99b1ee21c0a4bfbda357dffa94d6bc118cbb007f6d9454940fd532',\n",
       "  0.4417691922876015),\n",
       " ('8f7a52ee493dd46140ea14ca96e40a1282ce33858972912c1ec80de9a620f899',\n",
       "  0.42219683194516167),\n",
       " ('e8c6dca9d46e30fd3487d91e59f19de77d980f0a105f7336f79d4642999197ee',\n",
       "  0.3619973319364168),\n",
       " ('5e2c317abb6b562a7ddc5c6023604efbe83090cac7374e8aadcee09f60e5958a',\n",
       "  0.3142278014232861)]"
      ]
     },
     "execution_count": 9,
     "metadata": {},
     "output_type": "execute_result"
    }
   ],
   "source": [
    "main()"
   ]
  },
  {
   "cell_type": "code",
   "execution_count": null,
   "id": "4cfe4851",
   "metadata": {},
   "outputs": [],
   "source": []
  }
 ],
 "metadata": {
  "kernelspec": {
   "display_name": "venv",
   "language": "python",
   "name": "venv"
  },
  "language_info": {
   "codemirror_mode": {
    "name": "ipython",
    "version": 3
   },
   "file_extension": ".py",
   "mimetype": "text/x-python",
   "name": "python",
   "nbconvert_exporter": "python",
   "pygments_lexer": "ipython3",
   "version": "3.8.5"
  }
 },
 "nbformat": 4,
 "nbformat_minor": 5
}
