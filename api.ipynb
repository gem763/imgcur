{
 "cells": [
  {
   "cell_type": "code",
   "execution_count": 359,
   "metadata": {},
   "outputs": [],
   "source": [
    "import numpy as np\n",
    "from PIL import Image\n",
    "from io import BytesIO\n",
    "from IPython.display import display\n",
    "import os\n",
    "from google.cloud import vision\n",
    "from tqdm.notebook import tqdm\n",
    "import webcolors\n",
    "import hashlib\n",
    "import pymongo\n",
    "import glob\n",
    "import datetime\n",
    "import decouple\n",
    "\n",
    "config = decouple.AutoConfig(' ')\n",
    "dir_from = 'imgs/origin/'\n",
    "dir_archive = 'imgs/archive/'"
   ]
  },
  {
   "cell_type": "code",
   "execution_count": 227,
   "metadata": {},
   "outputs": [],
   "source": [
    "os.environ['GOOGLE_APPLICATION_CREDENTIALS'] = os.path.abspath(os.path.join(os.getcwd(), 'config/sideb-proejct-0e33d8c0b0a9.json'))"
   ]
  },
  {
   "cell_type": "code",
   "execution_count": 228,
   "metadata": {},
   "outputs": [
    {
     "data": {
      "text/plain": [
       "{'_id_': {'v': 2, 'key': [('_id', 1)]},\n",
       " 'hash_1': {'v': 2, 'key': [('hash', 1)], 'unique': True},\n",
       " 'labels_text': {'v': 2,\n",
       "  'key': [('_fts', 'text'), ('_ftsx', 1)],\n",
       "  'weights': SON([('labels', 1)]),\n",
       "  'default_language': 'english',\n",
       "  'language_override': 'language',\n",
       "  'textIndexVersion': 3}}"
      ]
     },
     "execution_count": 228,
     "metadata": {},
     "output_type": "execute_result"
    }
   ],
   "source": [
    "mongo = pymongo.MongoClient(config('MONGODB_URI'))\n",
    "db = mongo.Cluster0\n",
    "colpix = db.pix\n",
    "\n",
    "colpix.create_index('hash', unique=True)\n",
    "colpix.create_index([('labels', 'text')])\n",
    "colpix.index_information()"
   ]
  },
  {
   "cell_type": "code",
   "execution_count": 372,
   "metadata": {},
   "outputs": [],
   "source": [
    "class Pix:\n",
    "    def __init__(self, imgpath):\n",
    "        self.imgpath = imgpath\n",
    "        self.client = vision.ImageAnnotatorClient()\n",
    "        \n",
    "        self.image = self.get_image()\n",
    "        self.hash = self.hashing()\n",
    "        \n",
    "        self.resp_label = None\n",
    "        self.resp_web = None\n",
    "        self.resp_prop = None\n",
    "\n",
    "        self.labels = None\n",
    "        self.urls = None\n",
    "        self.colors = None\n",
    "        \n",
    "        self.analyze()\n",
    "        \n",
    "        \n",
    "    def get_image(self):\n",
    "        with open(self.imgpath, 'rb') as img_file:\n",
    "            content = img_file.read()\n",
    "\n",
    "        return vision.Image(content=content)       \n",
    "        \n",
    "        \n",
    "    def show(self):\n",
    "        # display(Image.open(BytesIO(self.image.content)))\n",
    "        display(Image.open(self.imgpath))\n",
    "\n",
    "        \n",
    "    def analyze(self):\n",
    "        if colpix.find_one({'hash': self.hash}):\n",
    "            print('이미 있네: ' + self.hash)\n",
    "            return\n",
    "        \n",
    "        self.labels = self.annotate_label()\n",
    "        self.urls = self.find_url()\n",
    "        self.colors = self.extract_color()\n",
    "        \n",
    "        self.save_to_mongo()\n",
    "        self.archive()\n",
    "        \n",
    "        \n",
    "    def annotate_label(self, min_score=0.6):\n",
    "        self.resp_label = self.client.label_detection(image=self.image, max_results=50)\n",
    "        labels = self.resp_label.label_annotations\n",
    "        labels = [label.description.lower().replace(' ', '_') for label in labels if label.score>=min_score]\n",
    "        return ' '.join(labels)\n",
    "        \n",
    "        \n",
    "    def find_url(self):\n",
    "        try:\n",
    "            self.resp_web = self.client.web_detection(image=self.image)\n",
    "            \n",
    "            if self.resp_web.web_detection.full_matching_images:\n",
    "                return [img.url for img in self.resp_web.web_detection.full_matching_images]\n",
    "            \n",
    "            else:\n",
    "                return [img.url for img in self.resp_web.web_detection.partial_matching_images]\n",
    "        \n",
    "        except:\n",
    "            return []\n",
    "        \n",
    "        \n",
    "    def extract_color(self, pct_thres=0.6):\n",
    "        self.resp_props = self.client.image_properties(image=self.image)\n",
    "        dom_colors = self.resp_props.image_properties_annotation.dominant_colors.colors\n",
    "\n",
    "        pct_cum = 0\n",
    "        colors = []\n",
    "        score_sum = sum([clr.score for clr in dom_colors])\n",
    "\n",
    "        # for clr in sorted(dom_colors, key=lambda x: -x.score): \n",
    "        # socore 기준 sort가 능사는 아니다. pixel_fraction도 중요하므로\n",
    "        for clr in dom_colors:\n",
    "            if pct_cum > pct_thres: \n",
    "                break\n",
    "\n",
    "            pct_cum += (clr.score / score_sum)\n",
    "            colors.append(self.get_color_name((clr.color.red, clr.color.green, clr.color.blue)))\n",
    "\n",
    "        return ' '.join(colors)\n",
    "        \n",
    "        \n",
    "    def hashing(self):\n",
    "        _img = Image.open(self.imgpath).convert('RGB')\n",
    "        _img_array = np.array(_img).astype(np.uint16)\n",
    "        _img_bytes = _img_array.tobytes()\n",
    "        return hashlib.sha256(_img_bytes).hexdigest()\n",
    "        \n",
    "        \n",
    "    def closest_color(self, requested_color):\n",
    "        min_colors = {}\n",
    "\n",
    "        for key, name in webcolors.CSS21_HEX_TO_NAMES.items():\n",
    "            r_c, g_c, b_c = webcolors.hex_to_rgb(key)\n",
    "            rd = (r_c - requested_color[0]) ** 2\n",
    "            gd = (g_c - requested_color[1]) ** 2\n",
    "            bd = (b_c - requested_color[2]) ** 2\n",
    "            min_colors[(rd + gd + bd)] = name\n",
    "\n",
    "        return min_colors[min(min_colors.keys())]\n",
    "\n",
    "    \n",
    "    def get_color_name(self, requested_color):\n",
    "        try:\n",
    "            closest_name = webcolors.rgb_to_name(requested_color, spec='css21')\n",
    "\n",
    "        except ValueError:\n",
    "            closest_name = self.closest_color(requested_color)\n",
    "            actual_name = None\n",
    "\n",
    "        return closest_name\n",
    "    \n",
    "    \n",
    "    def save_to_mongo(self):\n",
    "        pix = {\n",
    "            'labels': self.labels,\n",
    "            'urls': self.urls,\n",
    "            'colors': self.colors,\n",
    "            'hash': self.hash,\n",
    "            'created_at': datetime.datetime.utcnow()\n",
    "        }\n",
    "        return colpix.insert_one(pix).inserted_id\n",
    "    \n",
    "    \n",
    "    def archive(self):\n",
    "        ext = self.imgpath.split('.')[-1]\n",
    "        imgpath_new = dir_archive + self.hash + '.' + ext\n",
    "        os.rename(self.imgpath, imgpath_new)\n",
    "        self.imgpath = imgpath_new"
   ]
  },
  {
   "cell_type": "code",
   "execution_count": 364,
   "metadata": {
    "collapsed": true
   },
   "outputs": [
    {
     "data": {
      "image/png": "[encoded data removed]",
      "text/plain": [
       "<PIL.GifImagePlugin.GifImageFile image mode=P size=540x380>"
      ]
     },
     "metadata": {},
     "output_type": "display_data"
    }
   ],
   "source": [
    "pix = Pix('imgs/origin/ray.gif')\n",
    "pix.show()"
   ]
  },
  {
   "cell_type": "code",
   "execution_count": 365,
   "metadata": {},
   "outputs": [
    {
     "data": {
      "text/plain": [
       "'hair head hairstyle eye facial_expression mouth cartoon human_body gesture happy interaction art finger black_hair headgear font cg_artwork fictional_character illustration animated_cartoon graphics animation anime drawing fun fiction eyewear carmine magenta graphic_design'"
      ]
     },
     "execution_count": 365,
     "metadata": {},
     "output_type": "execute_result"
    }
   ],
   "source": [
    "pix.labels"
   ]
  },
  {
   "cell_type": "code",
   "execution_count": 366,
   "metadata": {},
   "outputs": [
    {
     "data": {
      "text/plain": [
       "['https://lookaside.fbsbx.com/lookaside/crawler/media/?media_id=1863142697264532',\n",
       " 'https://www.latercera.com/resizer/W0POK4yGydaEpLLoDAlbvonZPlI=/900x600/smart/arc-anglerfish-arc2-prod-copesa.s3.amazonaws.com/public/EZG4UW3P6BFCDKT6SAHOZSYTIM.gif',\n",
       " 'https://www.latercera.com/resizer/eRtm5DwKuVrh4FXWgFDwqhKHuko=/800x0/smart/arc-anglerfish-arc2-prod-copesa.s3.amazonaws.com/public/EZG4UW3P6BFCDKT6SAHOZSYTIM.gif',\n",
       " 'https://p16-sign-va.tiktokcdn.com/tos-maliva-p-0068/558481384966447299a24f84917de004_1649650071~tplv-tiktokx-share-play.jpeg?x-expires=1655604000&x-signature=ucChW3cLeF0YNvXCHrTgjP1z8f0%3D',\n",
       " 'https://res.cloudinary.com/jerrick/image/upload/f_jpg,q_auto,w_720/5e7d122eddce58001c543b83.gif',\n",
       " 'https://sochi.scapp.ru/wp-content/uploads/post/2021/11/111890-2.gif',\n",
       " 'https://i1.sndcdn.com/artworks-7d6y2TgkyirNh9nn-soVYUg-t500x500.jpg',\n",
       " 'https://i1.sndcdn.com/avatars-000441112017-ge9q85-t500x500.jpg',\n",
       " 'https://img.dmitory.com/img/202102/42I/gW0/42IgW0VdvaGUm8wM6EEKAC.gif',\n",
       " 'https://i.pinimg.com/originals/16/f6/98/16f698986ea300510c23bf4f323def8a.gif']"
      ]
     },
     "execution_count": 366,
     "metadata": {},
     "output_type": "execute_result"
    }
   ],
   "source": [
    "pix.urls"
   ]
  },
  {
   "cell_type": "code",
   "execution_count": 367,
   "metadata": {},
   "outputs": [
    {
     "data": {
      "text/plain": [
       "'6cf4902f0a6b70294ccf3e791d252b9c926b023106f401cf9bdb0d978d614462'"
      ]
     },
     "execution_count": 367,
     "metadata": {},
     "output_type": "execute_result"
    }
   ],
   "source": [
    "pix.hash"
   ]
  },
  {
   "cell_type": "code",
   "execution_count": 368,
   "metadata": {},
   "outputs": [
    {
     "data": {
      "text/plain": [
       "'silver maroon black gray gray silver'"
      ]
     },
     "execution_count": 368,
     "metadata": {},
     "output_type": "execute_result"
    }
   ],
   "source": [
    "pix.colors"
   ]
  },
  {
   "cell_type": "code",
   "execution_count": 369,
   "metadata": {},
   "outputs": [
    {
     "data": {
      "text/plain": [
       "'imgs/archive/6cf4902f0a6b70294ccf3e791d252b9c926b023106f401cf9bdb0d978d614462.gif'"
      ]
     },
     "execution_count": 369,
     "metadata": {},
     "output_type": "execute_result"
    }
   ],
   "source": [
    "pix.imgpath"
   ]
  },
  {
   "cell_type": "code",
   "execution_count": null,
   "metadata": {},
   "outputs": [],
   "source": []
  },
  {
   "cell_type": "code",
   "execution_count": 375,
   "metadata": {},
   "outputs": [
    {
     "data": {
      "text/plain": [
       "['imgs/origin/avhub.tumblr.com -Photo4237a7acf838c82180be7ff83cb64973.jpg',\n",
       " 'imgs/origin/2087.tumblr.com -Photo52562cba1ffaf3cefc498d81b37299ca.jpg',\n",
       " 'imgs/origin/lvlevelvl.tumblr.com nothing-is-wanted-Photo5bc43755cb3a881d48a229a44a51a51d.jpg',\n",
       " 'imgs/origin/altocontraste.tumblr.com ALTO-CONTRASTE-Photo70599479d964d63ee985bb17390aeda2.gif']"
      ]
     },
     "execution_count": 375,
     "metadata": {},
     "output_type": "execute_result"
    }
   ],
   "source": [
    "glob.glob(dir_from + '*.*')"
   ]
  },
  {
   "cell_type": "code",
   "execution_count": 376,
   "metadata": {},
   "outputs": [
    {
     "data": {
      "application/vnd.jupyter.widget-view+json": {
       "model_id": "35230e79245f46789883176a0e4f1249",
       "version_major": 2,
       "version_minor": 0
      },
      "text/plain": [
       "  0%|          | 0/4 [00:00<?, ?it/s]"
      ]
     },
     "metadata": {},
     "output_type": "display_data"
    },
    {
     "name": "stdout",
     "output_type": "stream",
     "text": [
      "이미 있네: 016ed2b68b3ec124045a1474dc518f0915fec98917f9ef3429f8c35dd44d1fb4\n",
      "이미 있네: 28235e860e2cbab447741de817d6d6bf6cd43839c3a87b14a61e5dbf87379ade\n",
      "이미 있네: c42e78cb296431c7f239e40e97d30a12b1ab4cf6e74cb2c66b241a36e30c9642\n",
      "이미 있네: 6cf4902f0a6b70294ccf3e791d252b9c926b023106f401cf9bdb0d978d614462\n"
     ]
    }
   ],
   "source": [
    "pixs = {}\n",
    "\n",
    "for _fname in tqdm(glob.glob(dir_from + '*.*')):\n",
    "    _pix = Pix(_fname)\n",
    "    pixs[_pix.hash] = _pix"
   ]
  },
  {
   "cell_type": "code",
   "execution_count": 377,
   "metadata": {},
   "outputs": [
    {
     "data": {
      "text/plain": [
       "{'016ed2b68b3ec124045a1474dc518f0915fec98917f9ef3429f8c35dd44d1fb4': <__main__.Pix at 0x7fd2f3617850>,\n",
       " '28235e860e2cbab447741de817d6d6bf6cd43839c3a87b14a61e5dbf87379ade': <__main__.Pix at 0x7fd2f3617310>,\n",
       " 'c42e78cb296431c7f239e40e97d30a12b1ab4cf6e74cb2c66b241a36e30c9642': <__main__.Pix at 0x7fd2f3604400>,\n",
       " '6cf4902f0a6b70294ccf3e791d252b9c926b023106f401cf9bdb0d978d614462': <__main__.Pix at 0x7fd31132dac0>}"
      ]
     },
     "execution_count": 377,
     "metadata": {},
     "output_type": "execute_result"
    }
   ],
   "source": [
    "pixs"
   ]
  },
  {
   "cell_type": "code",
   "execution_count": null,
   "metadata": {},
   "outputs": [],
   "source": []
  },
  {
   "cell_type": "code",
   "execution_count": null,
   "metadata": {},
   "outputs": [],
   "source": []
  }
 ],
 "metadata": {
  "kernelspec": {
   "display_name": "venv",
   "language": "python",
   "name": "venv"
  },
  "language_info": {
   "codemirror_mode": {
    "name": "ipython",
    "version": 3
   },
   "file_extension": ".py",
   "mimetype": "text/x-python",
   "name": "python",
   "nbconvert_exporter": "python",
   "pygments_lexer": "ipython3",
   "version": "3.8.8"
  }
 },
 "nbformat": 4,
 "nbformat_minor": 4
}
